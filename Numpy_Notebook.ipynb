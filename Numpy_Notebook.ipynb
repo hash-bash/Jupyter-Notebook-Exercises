{
 "cells": [
  {
   "cell_type": "code",
   "execution_count": 1,
   "metadata": {},
   "outputs": [
    {
     "name": "stdout",
     "output_type": "stream",
     "text": [
      "50.24\n",
      "25.12\n"
     ]
    }
   ],
   "source": [
    "# Area and circumference of circle without module import\n",
    "\n",
    "# Area of the circle \n",
    "r = 4\n",
    "a = 3.14 * (r**2)\n",
    "print(a)\n",
    "\n",
    "# Circumference of the circle\n",
    "c = 2 * 3.14 * r\n",
    "print(c)"
   ]
  },
  {
   "cell_type": "code",
   "execution_count": 2,
   "metadata": {},
   "outputs": [
    {
     "name": "stdout",
     "output_type": "stream",
     "text": [
      "50.26548245743669\n",
      "25.132741228718345\n"
     ]
    }
   ],
   "source": [
    "# Area and circumference of circle with module import\n",
    "\n",
    "# Import module math for functions and constants\n",
    "import math\n",
    "\n",
    "# Area of the circle \n",
    "r = 4\n",
    "a = math.pi * (r**2)  # Use pi constant defined in math module\n",
    "print(a)\n",
    "\n",
    "# Circumference of the circle\n",
    "c = 2 * math.pi * r   # Use pi constant defined in math module\n",
    "print(c)"
   ]
  },
  {
   "cell_type": "code",
   "execution_count": 3,
   "metadata": {},
   "outputs": [],
   "source": [
    "# Selective import of constant pi from math module\n",
    "from math import pi"
   ]
  },
  {
   "cell_type": "code",
   "execution_count": 4,
   "metadata": {},
   "outputs": [
    {
     "name": "stdout",
     "output_type": "stream",
     "text": [
      "80508.54773599443\n"
     ]
    }
   ],
   "source": [
    "# Calculating distance travelled by moon\n",
    "\n",
    "# Importing function radians for converting degrees to radians\n",
    "from math import radians\n",
    "\n",
    "# Approximate distance between center of earth and moon in kms\n",
    "r = 384400\n",
    "\n",
    "# Distance travelled by moon if it travels 12 degrees \n",
    "dist = r * radians(12)\n",
    "\n",
    "# Print the distance\n",
    "print(dist)"
   ]
  },
  {
   "cell_type": "code",
   "execution_count": 5,
   "metadata": {},
   "outputs": [
    {
     "name": "stdout",
     "output_type": "stream",
     "text": [
      "[1, 2, 3, 4, 1, 2, 3, 4]\n"
     ]
    }
   ],
   "source": [
    "# List cannot be manipulated directly in the way we want it\n",
    "l = [1,2,3,4]\n",
    "l = l * 2\n",
    "print(l)"
   ]
  },
  {
   "cell_type": "code",
   "execution_count": 6,
   "metadata": {},
   "outputs": [
    {
     "data": {
      "text/plain": [
       "[2, 4, 6, 8]"
      ]
     },
     "execution_count": 6,
     "metadata": {},
     "output_type": "execute_result"
    }
   ],
   "source": [
    "# Manipulating with list is a tedious task\n",
    "l = [1,2,3,4]\n",
    "l = list((i*2 for i in l))\n",
    "l"
   ]
  },
  {
   "cell_type": "code",
   "execution_count": 7,
   "metadata": {},
   "outputs": [
    {
     "name": "stdout",
     "output_type": "stream",
     "text": [
      "This is how a 1D array looks like\n",
      "\n",
      "\n",
      "[1 2 3]\n",
      "\n",
      "\n",
      "1\n",
      "\n",
      "\n",
      "<class 'numpy.ndarray'>\n",
      "\n",
      "\n",
      "(3,)\n",
      "\n",
      "\n",
      "(4,)\n",
      "\n",
      "\n",
      "<memory at 0x00000231F0F31E80>\n",
      "\n",
      "\n"
     ]
    }
   ],
   "source": [
    "# Arrays\n",
    "\n",
    "# Import Numpy module\n",
    "import numpy as np\n",
    "\n",
    "# 1D Array\n",
    "print(\"This is how a 1D array looks like\")\n",
    "print(\"\\n\")\n",
    "one = np.array([1,2,3])\n",
    "print(one)\n",
    "print(\"\\n\")\n",
    "print(one.ndim)\n",
    "print(\"\\n\")\n",
    "print(type(one))\n",
    "print(\"\\n\")\n",
    "print(one.shape)\n",
    "print(\"\\n\")\n",
    "print(one.strides)\n",
    "print(\"\\n\")\n",
    "print(one.data)\n",
    "print(\"\\n\")"
   ]
  },
  {
   "cell_type": "code",
   "execution_count": 8,
   "metadata": {},
   "outputs": [
    {
     "name": "stdout",
     "output_type": "stream",
     "text": [
      "This is how a 2D array looks like\n",
      "\n",
      "\n",
      "[[1 2 3]\n",
      " [4 5 6]]\n",
      "\n",
      "\n",
      "2\n",
      "\n",
      "\n",
      "<class 'numpy.ndarray'>\n",
      "\n",
      "\n",
      "(2, 3)\n",
      "\n",
      "\n",
      "(12, 4)\n",
      "\n",
      "\n"
     ]
    }
   ],
   "source": [
    "# 2D Array\n",
    "print(\"This is how a 2D array looks like\")\n",
    "print(\"\\n\")\n",
    "two = np.array([[1,2,3],[4,5,6]])\n",
    "print(two)\n",
    "print(\"\\n\")\n",
    "print(two.ndim)\n",
    "print(\"\\n\")\n",
    "print(type(two))\n",
    "print(\"\\n\")\n",
    "print(two.shape)\n",
    "print(\"\\n\")\n",
    "print(two.strides)\n",
    "print(\"\\n\")"
   ]
  },
  {
   "cell_type": "code",
   "execution_count": 9,
   "metadata": {},
   "outputs": [
    {
     "name": "stdout",
     "output_type": "stream",
     "text": [
      "This is how a 3D array looks like\n",
      "\n",
      "\n",
      "[[[1 2 3]\n",
      "  [4 5 6]\n",
      "  [7 8 9]]]\n",
      "\n",
      "\n",
      "3\n",
      "\n",
      "\n",
      "<class 'numpy.ndarray'>\n",
      "\n",
      "\n",
      "(1, 3, 3)\n",
      "\n",
      "\n"
     ]
    }
   ],
   "source": [
    "# 3D Array\n",
    "print(\"This is how a 3D array looks like\")\n",
    "print(\"\\n\")\n",
    "three = np.array([[[1,2,3],[4,5,6],[7,8,9]]])\n",
    "print(three)\n",
    "print(\"\\n\")\n",
    "print(three.ndim)\n",
    "print(\"\\n\")\n",
    "print(type(three))\n",
    "print(\"\\n\")\n",
    "print(three.shape)\n",
    "print(\"\\n\")"
   ]
  },
  {
   "cell_type": "code",
   "execution_count": 10,
   "metadata": {},
   "outputs": [
    {
     "name": "stdout",
     "output_type": "stream",
     "text": [
      "[61 65 63 69 70 73 68 64 63 62]\n",
      "<class 'numpy.ndarray'>\n",
      "1\n",
      "\n",
      "\n",
      "[154.94 165.1  160.02 175.26 177.8  185.42 172.72 162.56 160.02 157.48]\n"
     ]
    }
   ],
   "source": [
    "# Creating array from a list\n",
    "\n",
    "# Consider the list of heights of baseball players\n",
    "height_inches = [61,65,63,69,70,73,68,64,63,62]\n",
    "\n",
    "# Converting this list into numpy array\n",
    "height_np_inches = np.array(height_inches)\n",
    "print(height_np_inches)\n",
    "print(type(height_np_inches))\n",
    "print(height_np_inches.ndim)\n",
    "print(\"\\n\")\n",
    "\n",
    "# Converting this array of height to cm\n",
    "height_np_cm = height_np_inches * 2.54\n",
    "print(height_np_cm)"
   ]
  },
  {
   "cell_type": "code",
   "execution_count": 11,
   "metadata": {},
   "outputs": [
    {
     "name": "stdout",
     "output_type": "stream",
     "text": [
      "[45.   90.   72.   81.   63.   69.75 74.25 77.4  81.   90.  ]\n",
      "\n",
      "\n",
      "[1.5494 1.651  1.6002 1.7526 1.778  1.8542 1.7272 1.6256 1.6002 1.5748]\n",
      "\n",
      "\n",
      "[18.74499852 33.01781751 28.11797007 26.37056314 19.92861129 20.28761798\n",
      " 24.889215   29.28960936 31.63271633 36.29039516]\n",
      "\n",
      "\n"
     ]
    }
   ],
   "source": [
    "# Weight of players in pounds\n",
    "weight_pounds = [100,200,160,180,140,155,165,172,180,200]\n",
    "\n",
    "# Convert into numpy array\n",
    "weight_np_pounds = np.array(weight_pounds)\n",
    "weight_np_kgs = weight_np_pounds * 0.45\n",
    "\n",
    "print(weight_np_kgs)\n",
    "print(\"\\n\")\n",
    "\n",
    "height_np_m = height_np_cm / 100\n",
    "print(height_np_m)\n",
    "print(\"\\n\")\n",
    "\n",
    "# BMI\n",
    "bmi = weight_np_kgs / (height_np_m ** 2)\n",
    "print(bmi)\n",
    "print(\"\\n\")"
   ]
  },
  {
   "cell_type": "code",
   "execution_count": 12,
   "metadata": {},
   "outputs": [
    {
     "data": {
      "text/plain": [
       "9"
      ]
     },
     "execution_count": 12,
     "metadata": {},
     "output_type": "execute_result"
    }
   ],
   "source": [
    "# Subsetting a list\n",
    "x = [4 , 9 , 6, 3, 1]; x[1]"
   ]
  },
  {
   "cell_type": "code",
   "execution_count": 13,
   "metadata": {},
   "outputs": [
    {
     "data": {
      "text/plain": [
       "9"
      ]
     },
     "execution_count": 13,
     "metadata": {},
     "output_type": "execute_result"
    }
   ],
   "source": [
    "# Subsetting arrays\n",
    "y = np.array(x); y[1]"
   ]
  },
  {
   "cell_type": "code",
   "execution_count": 14,
   "metadata": {},
   "outputs": [
    {
     "data": {
      "text/plain": [
       "array([9, 6])"
      ]
     },
     "execution_count": 14,
     "metadata": {},
     "output_type": "execute_result"
    }
   ],
   "source": [
    "# Boolean method for subsetting\n",
    "high = y > 5 ;y[high]"
   ]
  },
  {
   "cell_type": "code",
   "execution_count": 15,
   "metadata": {},
   "outputs": [
    {
     "name": "stdout",
     "output_type": "stream",
     "text": [
      "[18.74499852 19.92861129 20.28761798]\n"
     ]
    }
   ],
   "source": [
    "# Finding out lighter players in our players dataset\n",
    "light = bmi < 21\n",
    "print(bmi[light])"
   ]
  },
  {
   "cell_type": "code",
   "execution_count": 16,
   "metadata": {},
   "outputs": [
    {
     "name": "stdout",
     "output_type": "stream",
     "text": [
      "[72.   81.   63.   69.75]\n"
     ]
    }
   ],
   "source": [
    "# Slicing the array\n",
    "print(weight_np_kgs[2:6])"
   ]
  },
  {
   "cell_type": "code",
   "execution_count": 17,
   "metadata": {},
   "outputs": [
    {
     "name": "stdout",
     "output_type": "stream",
     "text": [
      "[[45.     90.     72.     81.     63.     69.75   74.25   77.4    81.\n",
      "  90.    ]\n",
      " [ 1.5494  1.651   1.6002  1.7526  1.778   1.8542  1.7272  1.6256  1.6002\n",
      "   1.5748]]\n",
      "2\n",
      "(2, 10)\n"
     ]
    }
   ],
   "source": [
    "# Making a 2D array from lists\n",
    "baseball_total = [weight_np_kgs, height_np_m]\n",
    "baseball_total_np = np.array(baseball_total)\n",
    "\n",
    "print(baseball_total_np)\n",
    "print(baseball_total_np.ndim)\n",
    "print(baseball_total_np.shape)"
   ]
  },
  {
   "cell_type": "code",
   "execution_count": 18,
   "metadata": {},
   "outputs": [
    {
     "name": "stdout",
     "output_type": "stream",
     "text": [
      "72.0 1.6002\n"
     ]
    }
   ],
   "source": [
    "# Looking at the players data at index 2\n",
    "print(baseball_total_np[0][2],baseball_total_np[1][2])"
   ]
  },
  {
   "cell_type": "code",
   "execution_count": 19,
   "metadata": {},
   "outputs": [
    {
     "data": {
      "text/plain": [
       "array([72.    ,  1.6002])"
      ]
     },
     "execution_count": 19,
     "metadata": {},
     "output_type": "execute_result"
    }
   ],
   "source": [
    "baseball_total_np[:,2]"
   ]
  },
  {
   "cell_type": "code",
   "execution_count": 20,
   "metadata": {},
   "outputs": [
    {
     "name": "stdout",
     "output_type": "stream",
     "text": [
      "[1.5494 1.651  1.6002 1.7526 1.778  1.8542 1.7272 1.6256 1.6002 1.5748]\n"
     ]
    }
   ],
   "source": [
    "# Looking at all the players heights\n",
    "print(baseball_total_np[1])"
   ]
  },
  {
   "cell_type": "code",
   "execution_count": 21,
   "metadata": {},
   "outputs": [
    {
     "name": "stdout",
     "output_type": "stream",
     "text": [
      "[1.5494 1.651  1.6002 1.7526 1.778  1.8542 1.7272 1.6256 1.6002 1.5748]\n"
     ]
    }
   ],
   "source": [
    "# Looking at all the players heights by another approach\n",
    "print(baseball_total_np[1,:])"
   ]
  },
  {
   "cell_type": "code",
   "execution_count": 22,
   "metadata": {},
   "outputs": [
    {
     "data": {
      "text/plain": [
       "array([[11, 12],\n",
       "       [13, 14],\n",
       "       [15, 16]])"
      ]
     },
     "execution_count": 22,
     "metadata": {},
     "output_type": "execute_result"
    }
   ],
   "source": [
    "# Arithmatics with arrays\n",
    "np_mat = np.array([[1, 2], [3, 4], [5, 6]])\n",
    "np_mat + 10"
   ]
  },
  {
   "cell_type": "code",
   "execution_count": 23,
   "metadata": {},
   "outputs": [
    {
     "name": "stdout",
     "output_type": "stream",
     "text": [
      "[[2 3 4]]\n",
      "\n",
      "\n",
      "(1, 3)\n",
      "\n",
      "\n",
      "[[2]\n",
      " [3]\n",
      " [4]]\n",
      "\n",
      "\n",
      "(3, 1)\n"
     ]
    }
   ],
   "source": [
    "# Transpose\n",
    "import numpy as np\n",
    "\n",
    "a = np.array([[2,3,4]])\n",
    "print(a)\n",
    "print(\"\\n\")\n",
    "print(a.shape)\n",
    "print(\"\\n\")\n",
    "a_t = a.T\n",
    "print(a_t)\n",
    "print(\"\\n\")\n",
    "print(a_t.shape)"
   ]
  },
  {
   "cell_type": "code",
   "execution_count": 24,
   "metadata": {},
   "outputs": [
    {
     "name": "stdout",
     "output_type": "stream",
     "text": [
      "[[2 3 4]]\n",
      "\n",
      "\n",
      "(1, 3)\n",
      "\n",
      "\n",
      "[[2]\n",
      " [3]\n",
      " [4]]\n",
      "\n",
      "\n",
      "(3, 1)\n"
     ]
    }
   ],
   "source": [
    "# Swap axes\n",
    "import numpy as np\n",
    "\n",
    "a = np.array([[2,3,4]])\n",
    "print(a)\n",
    "print(\"\\n\")\n",
    "print(a.shape)\n",
    "print(\"\\n\")\n",
    "a = np.swapaxes(a,0,1)\n",
    "print(a)\n",
    "print(\"\\n\")\n",
    "print(a.shape)"
   ]
  },
  {
   "cell_type": "code",
   "execution_count": 25,
   "metadata": {},
   "outputs": [
    {
     "data": {
      "text/plain": [
       "array([[[ 1, 10],\n",
       "        [ 4, 13],\n",
       "        [ 7, 16]],\n",
       "\n",
       "       [[ 2, 11],\n",
       "        [ 5, 14],\n",
       "        [ 8, 17]],\n",
       "\n",
       "       [[ 3, 12],\n",
       "        [ 6, 15],\n",
       "        [ 9, 18]]])"
      ]
     },
     "execution_count": 25,
     "metadata": {},
     "output_type": "execute_result"
    }
   ],
   "source": [
    "# 3D array swap axes example\n",
    "arr = np.array([[[1,2,3],[4,5,6],[7,8,9]],[[10,11,12],[13,14,15],[16,17,18]]])\n",
    "arr_new = np.swapaxes(arr,0,2)\n",
    "arr_new"
   ]
  },
  {
   "cell_type": "code",
   "execution_count": 26,
   "metadata": {},
   "outputs": [
    {
     "name": "stdout",
     "output_type": "stream",
     "text": [
      "[0 1 2 3 4 5 6 7 8 9]\n",
      "\n",
      "\n",
      "[0.         1.         1.41421356 1.73205081 2.         2.23606798\n",
      " 2.44948974 2.64575131 2.82842712 3.        ]\n",
      "\n",
      "\n",
      "[1.00000000e+00 2.71828183e+00 7.38905610e+00 2.00855369e+01\n",
      " 5.45981500e+01 1.48413159e+02 4.03428793e+02 1.09663316e+03\n",
      " 2.98095799e+03 8.10308393e+03]\n",
      "\n",
      "\n",
      "[ 0.54626435 -0.23841195  0.02005782  0.3885025  -0.26456293  0.25501424\n",
      " -1.31031567  0.99701697]\n",
      "\n",
      "\n",
      "[ 1.37871282 -0.89708177 -1.18514423  0.17796708  0.38936053  1.42627711\n",
      "  0.91127465  1.95936039]\n",
      "\n",
      "\n",
      "[ 1.37871282 -0.23841195  0.02005782  0.3885025   0.38936053  1.42627711\n",
      "  0.91127465  1.95936039]\n"
     ]
    }
   ],
   "source": [
    "# Universal functions\n",
    "arr = np.arange(10)\n",
    "print(arr)\n",
    "print(\"\\n\")\n",
    "\n",
    "# Unary functions\n",
    "print(np.sqrt(arr)) # Square root\n",
    "print(\"\\n\")\n",
    "print(np.exp(arr)) # Exponential\n",
    "print(\"\\n\")\n",
    "x = np.random.randn(8)\n",
    "print(x)\n",
    "print(\"\\n\")\n",
    "y = np.random.randn(8)\n",
    "print(y)\n",
    "print(\"\\n\")\n",
    "\n",
    "# Binary functions\n",
    "print(np.maximum(x, y))"
   ]
  },
  {
   "cell_type": "code",
   "execution_count": 27,
   "metadata": {},
   "outputs": [
    {
     "name": "stdout",
     "output_type": "stream",
     "text": [
      "[[45.      1.5494]\n",
      " [90.      1.651 ]\n",
      " [72.      1.6002]\n",
      " [81.      1.7526]\n",
      " [63.      1.778 ]\n",
      " [69.75    1.8542]\n",
      " [74.25    1.7272]\n",
      " [77.4     1.6256]\n",
      " [81.      1.6002]\n",
      " [90.      1.5748]]\n",
      "(10, 2)\n"
     ]
    }
   ],
   "source": [
    "# Mathematical and statistical methods\n",
    "baseball_np = baseball_total_np.T\n",
    "print(baseball_np)\n",
    "print(baseball_np.shape)\n",
    "\n",
    "np_height = baseball_np[:,1]\n",
    "np_weight = baseball_np[:,0]"
   ]
  },
  {
   "cell_type": "code",
   "execution_count": 28,
   "metadata": {},
   "outputs": [
    {
     "name": "stdout",
     "output_type": "stream",
     "text": [
      "1.6713200000000001\n"
     ]
    }
   ],
   "source": [
    "# Printing mean of the height \n",
    "print(np.mean(np_height))"
   ]
  },
  {
   "cell_type": "code",
   "execution_count": 29,
   "metadata": {},
   "outputs": [
    {
     "name": "stdout",
     "output_type": "stream",
     "text": [
      "1.6383\n"
     ]
    }
   ],
   "source": [
    "# Printing median of the height \n",
    "print(np.median(np_height))"
   ]
  },
  {
   "cell_type": "code",
   "execution_count": 30,
   "metadata": {},
   "outputs": [
    {
     "name": "stdout",
     "output_type": "stream",
     "text": [
      "743.4\n"
     ]
    }
   ],
   "source": [
    "# Printing sum of weights of all players\n",
    "print(np.sum(np_weight))"
   ]
  },
  {
   "cell_type": "code",
   "execution_count": 31,
   "metadata": {},
   "outputs": [
    {
     "name": "stdout",
     "output_type": "stream",
     "text": [
      "[ 45.   135.   207.   288.   351.   420.75 495.   572.4  653.4  743.4 ]\n"
     ]
    }
   ],
   "source": [
    "# Printing cumulative sum of weights of all players\n",
    "print(np.cumsum(np_weight))"
   ]
  },
  {
   "cell_type": "code",
   "execution_count": 32,
   "metadata": {},
   "outputs": [
    {
     "name": "stdout",
     "output_type": "stream",
     "text": [
      "[4.50000000e+01 4.05000000e+03 2.91600000e+05 2.36196000e+07\n",
      " 1.48803480e+09 1.03790427e+11 7.70643923e+12 5.96478396e+14\n",
      " 4.83147501e+16 4.34832751e+18]\n"
     ]
    }
   ],
   "source": [
    "# Printing cumulative product of weights of all players\n",
    "print(np.cumprod(np_weight))"
   ]
  },
  {
   "cell_type": "code",
   "execution_count": 33,
   "metadata": {},
   "outputs": [
    {
     "name": "stdout",
     "output_type": "stream",
     "text": [
      "12.667000434199092\n"
     ]
    }
   ],
   "source": [
    "# Printing standard deviation in weight of players\n",
    "print(np.std(np_weight))"
   ]
  },
  {
   "cell_type": "code",
   "execution_count": 34,
   "metadata": {},
   "outputs": [
    {
     "name": "stdout",
     "output_type": "stream",
     "text": [
      "[[ 1.         -0.01755982]\n",
      " [-0.01755982  1.        ]]\n"
     ]
    }
   ],
   "source": [
    "# Printing the correlation between the height and weight of the players\n",
    "print(np.corrcoef(baseball_np[:,0],baseball_np[:,1]))"
   ]
  },
  {
   "cell_type": "code",
   "execution_count": 35,
   "metadata": {},
   "outputs": [
    {
     "name": "stdout",
     "output_type": "stream",
     "text": [
      "[0 1 3 6]\n"
     ]
    }
   ],
   "source": [
    "# Simple explanation for cummulative sum\n",
    "a = np.array([0,1,2,3])\n",
    "print(a.cumsum())"
   ]
  },
  {
   "cell_type": "code",
   "execution_count": 36,
   "metadata": {
    "scrolled": true
   },
   "outputs": [
    {
     "name": "stdout",
     "output_type": "stream",
     "text": [
      "[-7.55054143e-01  6.07917728e-01  2.33791589e-01 -3.84873656e-01\n",
      "  1.82824541e+00  7.88105606e-01  6.75245498e-01 -1.23759379e+00\n",
      " -1.78425417e+00  7.36564137e-02 -2.52456694e+00  2.02859393e-01\n",
      " -2.42918205e+00 -2.52748878e-01 -1.47797733e+00 -9.78667016e-01\n",
      " -1.19208909e+00  8.70427101e-01  5.09337432e-01 -8.15782654e-02\n",
      " -8.09812721e-01 -7.31748394e-01  1.84044003e-01 -2.92355697e-02\n",
      "  1.67092596e+00 -1.80506843e+00  4.94718317e-01 -2.00978723e-01\n",
      " -1.81552431e+00  1.15522410e+00  1.49246511e+00  2.96505514e-01\n",
      "  1.28703456e+00 -1.28545003e+00  1.50768468e+00 -3.46261118e-01\n",
      " -1.82942444e-01 -4.23095514e-02 -8.13445300e-01 -4.31361836e-01\n",
      "  4.41613878e-01 -1.12267593e+00 -2.16426040e+00 -3.10056536e-01\n",
      "  5.29133337e-01  2.17013240e-01 -1.14563994e+00  2.00396605e+00\n",
      " -1.57046109e+00  1.18279321e+00 -9.73441507e-01 -2.09517731e+00\n",
      "  7.68052327e-01  4.01956550e-01  2.95486753e-01 -8.86107335e-02\n",
      " -7.68070343e-01  2.04737853e-01  9.06328079e-01  1.37823682e-02\n",
      " -1.18084470e+00  6.39131162e-01 -2.03314960e-03  3.15397335e-01\n",
      "  2.41211722e+00  3.35402139e-01 -7.48834990e-01 -1.14783366e+00\n",
      " -4.97711989e-01  2.13255506e+00 -1.79246522e+00  1.91789342e-01\n",
      " -8.47669063e-02  1.34212502e+00 -1.22574519e+00  1.64131037e+00\n",
      " -9.74820158e-01  3.48498830e-02 -6.04881374e-01  2.67262907e-01\n",
      "  1.77358489e+00  5.92050716e-01 -5.70468455e-01 -9.67613219e-01\n",
      " -1.02605469e+00 -9.65856789e-01 -1.23167080e-01  2.18775665e-01\n",
      "  1.52136142e-01  1.51954442e+00  1.14277399e+00  1.06785949e+00\n",
      " -5.61640125e-01  1.47055963e+00  3.46489761e-01 -5.55807016e-01\n",
      " -7.63357788e-01  4.71024554e-01  1.42227822e+00  3.17841790e-01]\n",
      "50\n",
      "\n",
      "\n",
      "True\n",
      "\n",
      "\n",
      "False\n"
     ]
    }
   ],
   "source": [
    "# Methods for boolean arrays\n",
    "arr = np.random.randn(100)\n",
    "print(arr)\n",
    "print((arr > 0).sum())\n",
    "print(\"\\n\")\n",
    "\n",
    "# Any and all\n",
    "bools = np.array([False, False, True, False])\n",
    "print(bools.any())\n",
    "print(\"\\n\")\n",
    "print(bools.all())"
   ]
  },
  {
   "cell_type": "code",
   "execution_count": 37,
   "metadata": {},
   "outputs": [
    {
     "name": "stdout",
     "output_type": "stream",
     "text": [
      "[-1.29612512  1.92418021 -0.19314363  0.04861251  0.14208331 -0.30620133]\n",
      "\n",
      "\n",
      "[-1.29612512 -0.30620133 -0.19314363  0.04861251  0.14208331  1.92418021]\n"
     ]
    }
   ],
   "source": [
    "# Sort\n",
    "arr = np.random.randn(6)\n",
    "print(arr)\n",
    "print(\"\\n\")\n",
    "# print(np.sort(arr))\n",
    "arr_sorted = np.sort(arr)\n",
    "print(arr_sorted)"
   ]
  },
  {
   "cell_type": "code",
   "execution_count": 38,
   "metadata": {
    "scrolled": true
   },
   "outputs": [
    {
     "data": {
      "text/plain": [
       "array(['Bob', 'Joe', 'Will'], dtype='<U4')"
      ]
     },
     "execution_count": 38,
     "metadata": {},
     "output_type": "execute_result"
    }
   ],
   "source": [
    "# Unique Function\n",
    "names = np.array(['Bob', 'Joe', 'Will', 'Bob', 'Will', 'Joe', 'Joe'])\n",
    "np.unique(names)"
   ]
  },
  {
   "cell_type": "code",
   "execution_count": 39,
   "metadata": {},
   "outputs": [
    {
     "name": "stdout",
     "output_type": "stream",
     "text": [
      "[0 1 2 3 4 5 6 7 8 9]\n",
      "\n",
      "\n"
     ]
    },
    {
     "data": {
      "text/plain": [
       "array([0, 1, 2, 3, 4, 5, 6, 7, 8, 9])"
      ]
     },
     "execution_count": 39,
     "metadata": {},
     "output_type": "execute_result"
    }
   ],
   "source": [
    "# File input and output with arrays\n",
    "arr = np.arange(10)\n",
    "print(arr)\n",
    "print(\"\\n\")\n",
    "\n",
    "# Saving the array into file\n",
    "np.save('DA.npy', arr)\n",
    "\n",
    "# Loading the file \n",
    "np.load('DA.npy')"
   ]
  },
  {
   "cell_type": "code",
   "execution_count": 40,
   "metadata": {},
   "outputs": [
    {
     "name": "stdout",
     "output_type": "stream",
     "text": [
      "Before changing the ravelled array looking at original array\n",
      "[[ 0  1  2]\n",
      " [ 3  4  5]\n",
      " [ 6  7  8]\n",
      " [ 9 10 11]\n",
      " [12 13 14]]\n",
      "\n",
      "\n",
      "[ 0  1  2  3  4  5  6  7  8  9 10 11 12 13 14]\n",
      "\n",
      "\n",
      "[1000    1    2    3    4    5    6    7    8    9   10   11   12   13\n",
      "   14]\n",
      "\n",
      "\n",
      "After changing the ravelled array looking at original array\n",
      "[[1000    1    2]\n",
      " [   3    4    5]\n",
      " [   6    7    8]\n",
      " [   9   10   11]\n",
      " [  12   13   14]]\n"
     ]
    }
   ],
   "source": [
    "# Ravel function for flattening of data\n",
    "arr = np.arange(15).reshape((5, 3))\n",
    "print(\"Before changing the ravelled array looking at original array\")\n",
    "print(arr)\n",
    "print(\"\\n\")\n",
    "rav1 = arr.ravel()\n",
    "print(rav1)\n",
    "print(\"\\n\")\n",
    "rav1[0] = 1000\n",
    "print(rav1)\n",
    "print(\"\\n\")\n",
    "print(\"After changing the ravelled array looking at original array\")\n",
    "print(arr)"
   ]
  },
  {
   "cell_type": "code",
   "execution_count": 41,
   "metadata": {},
   "outputs": [
    {
     "name": "stdout",
     "output_type": "stream",
     "text": [
      "Before changing the flattened array looking at original array\n",
      "[[ 0  1  2]\n",
      " [ 3  4  5]\n",
      " [ 6  7  8]\n",
      " [ 9 10 11]\n",
      " [12 13 14]]\n",
      "\n",
      "\n",
      "[ 0  1  2  3  4  5  6  7  8  9 10 11 12 13 14]\n",
      "\n",
      "\n",
      "[1000    1    2    3    4    5    6    7    8    9   10   11   12   13\n",
      "   14]\n",
      "\n",
      "\n",
      "After changing the flattened array looking at original array\n",
      "[[ 0  1  2]\n",
      " [ 3  4  5]\n",
      " [ 6  7  8]\n",
      " [ 9 10 11]\n",
      " [12 13 14]]\n",
      "\n",
      "\n"
     ]
    }
   ],
   "source": [
    "# Flatten function for flattening of data\n",
    "arr = np.arange(15).reshape((5, 3))\n",
    "print(\"Before changing the flattened array looking at original array\")\n",
    "print(arr)\n",
    "print(\"\\n\")\n",
    "flat1 = arr.flatten()\n",
    "print(flat1)\n",
    "print(\"\\n\")\n",
    "flat1[0] = 1000\n",
    "print(flat1)\n",
    "print(\"\\n\")\n",
    "print(\"After changing the flattened array looking at original array\")\n",
    "print(arr)\n",
    "print(\"\\n\")"
   ]
  },
  {
   "cell_type": "code",
   "execution_count": 42,
   "metadata": {},
   "outputs": [
    {
     "name": "stdout",
     "output_type": "stream",
     "text": [
      "[[1 2 3]\n",
      " [4 5 6]]\n",
      "\n",
      "\n",
      "[[ 7  8  9]\n",
      " [10 11 12]]\n",
      "\n",
      "\n",
      "[[ 1  2  3]\n",
      " [ 4  5  6]\n",
      " [ 7  8  9]\n",
      " [10 11 12]]\n",
      "\n",
      "\n",
      "[[ 1  2  3  7  8  9]\n",
      " [ 4  5  6 10 11 12]]\n",
      "\n",
      "\n",
      "[[ 1  2  3]\n",
      " [ 4  5  6]\n",
      " [ 7  8  9]\n",
      " [10 11 12]]\n",
      "\n",
      "\n",
      "[[ 1  2  3  7  8  9]\n",
      " [ 4  5  6 10 11 12]]\n",
      "\n",
      "\n"
     ]
    }
   ],
   "source": [
    "# Concatenation\n",
    "arr1 = np.array([[1, 2, 3], [4, 5, 6]])\n",
    "print(arr1)\n",
    "print(\"\\n\")\n",
    "arr2 = np.array([[7, 8, 9], [10, 11, 12]])\n",
    "print(arr2)\n",
    "print(\"\\n\")\n",
    "print(np.concatenate([arr1, arr2], axis=0))\n",
    "print(\"\\n\")\n",
    "print(np.concatenate([arr1, arr2], axis=1))\n",
    "print(\"\\n\")\n",
    "print(np.vstack((arr1, arr2)))\n",
    "print(\"\\n\")\n",
    "print(np.hstack((arr1, arr2)))\n",
    "print(\"\\n\")"
   ]
  },
  {
   "cell_type": "code",
   "execution_count": 43,
   "metadata": {},
   "outputs": [
    {
     "name": "stdout",
     "output_type": "stream",
     "text": [
      "Original array\n",
      "[[-0.5463762   0.25157218]\n",
      " [ 0.45350275  0.01930075]\n",
      " [-0.20414244 -0.61102778]\n",
      " [ 0.90046867 -1.65360943]\n",
      " [ 1.80869391 -0.07415817]]\n",
      "\n",
      "\n",
      "The first split\n",
      "[[-0.5463762   0.25157218]]\n",
      "\n",
      "\n",
      "The second split\n",
      "[[0.45350275 0.01930075]]\n",
      "\n",
      "\n",
      "The third split\n",
      "[[-0.20414244 -0.61102778]\n",
      " [ 0.90046867 -1.65360943]\n",
      " [ 1.80869391 -0.07415817]]\n",
      "\n",
      "\n"
     ]
    }
   ],
   "source": [
    "# Split\n",
    "arr = np.random.randn(5, 2)\n",
    "print(\"Original array\")\n",
    "print(arr)\n",
    "print(\"\\n\")\n",
    "first, second, third = np.split(arr, [1, 2])\n",
    "print(\"The first split\")\n",
    "print(first)\n",
    "print(\"\\n\")\n",
    "print(\"The second split\")\n",
    "print(second)\n",
    "print(\"\\n\")\n",
    "print(\"The third split\")\n",
    "print(third)\n",
    "print(\"\\n\")"
   ]
  },
  {
   "cell_type": "code",
   "execution_count": 44,
   "metadata": {},
   "outputs": [
    {
     "name": "stdout",
     "output_type": "stream",
     "text": [
      "[0 1 2]\n",
      "\n",
      "\n",
      "[0 0 0 1 1 1 2 2 2]\n",
      "\n",
      "\n",
      "[0 0 1 1 1 2 2 2 2]\n",
      "\n",
      "\n",
      "[[ 0.71877781  1.06241574]\n",
      " [-0.01435672 -0.3930494 ]]\n",
      "\n",
      "\n",
      "[[ 0.71877781  0.71877781  1.06241574  1.06241574]\n",
      " [-0.01435672 -0.01435672 -0.3930494  -0.3930494 ]]\n"
     ]
    }
   ],
   "source": [
    "# Repeat\n",
    "arr = np.arange(3)\n",
    "print(arr)\n",
    "print(\"\\n\")\n",
    "print(arr.repeat(3))\n",
    "\n",
    "# We can pass list as argument for repeat\n",
    "print(\"\\n\")\n",
    "print(arr.repeat([2, 3, 4]))\n",
    "print(\"\\n\")\n",
    "\n",
    "# We can specify axes to do the repeat\n",
    "arr_2 = np.random.randn(2, 2)\n",
    "print(arr_2)\n",
    "print(\"\\n\")\n",
    "print(arr_2.repeat(2, axis=1))"
   ]
  },
  {
   "cell_type": "code",
   "execution_count": 45,
   "metadata": {},
   "outputs": [
    {
     "name": "stdout",
     "output_type": "stream",
     "text": [
      "[[ 0.71877781  1.06241574]\n",
      " [-0.01435672 -0.3930494 ]]\n",
      "[[ 0.71877781  1.06241574  0.71877781  1.06241574]\n",
      " [-0.01435672 -0.3930494  -0.01435672 -0.3930494 ]]\n",
      "\n",
      "\n",
      "[[ 0.71877781  1.06241574]\n",
      " [-0.01435672 -0.3930494 ]\n",
      " [ 0.71877781  1.06241574]\n",
      " [-0.01435672 -0.3930494 ]]\n",
      "\n",
      "\n",
      "[[ 0.71877781  1.06241574  0.71877781  1.06241574]\n",
      " [-0.01435672 -0.3930494  -0.01435672 -0.3930494 ]\n",
      " [ 0.71877781  1.06241574  0.71877781  1.06241574]\n",
      " [-0.01435672 -0.3930494  -0.01435672 -0.3930494 ]\n",
      " [ 0.71877781  1.06241574  0.71877781  1.06241574]\n",
      " [-0.01435672 -0.3930494  -0.01435672 -0.3930494 ]]\n"
     ]
    }
   ],
   "source": [
    "print(arr_2)\n",
    "print(np.tile(arr_2, 2))\n",
    "print(\"\\n\")\n",
    "print(np.tile(arr_2, (2, 1)))\n",
    "print(\"\\n\")\n",
    "print(np.tile(arr_2, (3, 2)))"
   ]
  },
  {
   "cell_type": "code",
   "execution_count": 46,
   "metadata": {},
   "outputs": [
    {
     "name": "stdout",
     "output_type": "stream",
     "text": [
      "[0 2 4 6 8 10 12 14]\n"
     ]
    }
   ],
   "source": [
    "# Writing new ufuncs in Python\n",
    "def add_elements(x, y):\n",
    "    return x + y\n",
    "\n",
    "add_them = np.frompyfunc(add_elements, 2, 1) \n",
    "\n",
    "print(add_them(np.arange(8), np.arange(8)))"
   ]
  },
  {
   "cell_type": "code",
   "execution_count": 47,
   "metadata": {},
   "outputs": [
    {
     "name": "stdout",
     "output_type": "stream",
     "text": [
      "[1, 2, 3, 4, 5, 1, 2, 3, 4, 5]\n",
      "[2, 4, 6, 8, 10]\n"
     ]
    }
   ],
   "source": [
    "import numpy as np\n",
    "\n",
    "l = [1,2,3,4,5]\n",
    "print(l*2)\n",
    "\n",
    "d = [w*2 for w in l]\n",
    "print(d)"
   ]
  },
  {
   "cell_type": "code",
   "execution_count": 48,
   "metadata": {},
   "outputs": [
    {
     "name": "stdout",
     "output_type": "stream",
     "text": [
      "[[0 1 2 3 4]\n",
      " [5 6 7 8 9]]\n",
      "\n",
      "\n",
      "(20, 4)\n"
     ]
    }
   ],
   "source": [
    "a1 = np.arange(10).reshape(2,5)\n",
    "print(a1)\n",
    "print(\"\\n\")\n",
    "print(a1.strides)"
   ]
  }
 ],
 "metadata": {
  "kernelspec": {
   "display_name": "Python 3",
   "language": "python",
   "name": "python3"
  },
  "language_info": {
   "codemirror_mode": {
    "name": "ipython",
    "version": 3
   },
   "file_extension": ".py",
   "mimetype": "text/x-python",
   "name": "python",
   "nbconvert_exporter": "python",
   "pygments_lexer": "ipython3",
   "version": "3.8.8"
  }
 },
 "nbformat": 4,
 "nbformat_minor": 4
}
