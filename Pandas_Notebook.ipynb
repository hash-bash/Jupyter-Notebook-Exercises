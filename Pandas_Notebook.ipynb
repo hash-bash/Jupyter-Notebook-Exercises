{
 "cells": [
  {
   "cell_type": "code",
   "execution_count": 1,
   "metadata": {},
   "outputs": [],
   "source": [
    "# Import Numpy\n",
    "import numpy as np\n",
    "\n",
    "# Import Pandas\n",
    "import pandas as pd"
   ]
  },
  {
   "cell_type": "code",
   "execution_count": 2,
   "metadata": {},
   "outputs": [
    {
     "data": {
      "text/plain": [
       "a    10\n",
       "b    20\n",
       "c    30\n",
       "d    40\n",
       "e    50\n",
       "dtype: int64"
      ]
     },
     "execution_count": 2,
     "metadata": {},
     "output_type": "execute_result"
    }
   ],
   "source": [
    "# Convert list into series of elements\n",
    "l = [10,20,30,40,50]\n",
    "s1 = pd.Series(data = l, index = ['a','b','c','d','e'])\n",
    "s1"
   ]
  },
  {
   "cell_type": "code",
   "execution_count": 3,
   "metadata": {},
   "outputs": [
    {
     "name": "stdout",
     "output_type": "stream",
     "text": [
      "a    10\n",
      "b    20\n",
      "c    30\n",
      "d    40\n",
      "e    50\n",
      "dtype: int64\n"
     ]
    }
   ],
   "source": [
    "print(s1)"
   ]
  },
  {
   "cell_type": "code",
   "execution_count": 4,
   "metadata": {},
   "outputs": [
    {
     "data": {
      "text/plain": [
       "pandas.core.series.Series"
      ]
     },
     "execution_count": 4,
     "metadata": {},
     "output_type": "execute_result"
    }
   ],
   "source": [
    "type(s1)"
   ]
  },
  {
   "cell_type": "code",
   "execution_count": 5,
   "metadata": {},
   "outputs": [
    {
     "data": {
      "text/plain": [
       "a    10\n",
       "b    20\n",
       "c    30\n",
       "d    40\n",
       "e    50\n",
       "dtype: int64"
      ]
     },
     "execution_count": 5,
     "metadata": {},
     "output_type": "execute_result"
    }
   ],
   "source": [
    "# Convert dictionaries into series of elements\n",
    "d = {'a':10,'b':20,'c':30,'d':40,'e':50}\n",
    "s2 = pd.Series(d)\n",
    "s2"
   ]
  },
  {
   "cell_type": "code",
   "execution_count": 6,
   "metadata": {},
   "outputs": [],
   "source": [
    "# print(s2)"
   ]
  },
  {
   "cell_type": "code",
   "execution_count": 7,
   "metadata": {},
   "outputs": [],
   "source": [
    "# type(s2)"
   ]
  },
  {
   "cell_type": "code",
   "execution_count": 8,
   "metadata": {},
   "outputs": [
    {
     "name": "stdout",
     "output_type": "stream",
     "text": [
      "India         1\n",
      "Srilanka      2\n",
      "Bangladesh    3\n",
      "Russia        4\n",
      "dtype: int64\n",
      "India         1\n",
      "Srilanka      2\n",
      "Bangladesh    5\n",
      "Russia        9\n",
      "dtype: int64\n",
      "India          2\n",
      "Srilanka       4\n",
      "Bangladesh     8\n",
      "Russia        13\n",
      "dtype: int64\n"
     ]
    }
   ],
   "source": [
    "# Addition of two series\n",
    "ser1=pd.Series([1,2,3,4],['India','Srilanka', 'Bangladesh', 'Russia'])\n",
    "print(ser1)\n",
    "ser2=pd.Series([1,2,5,9],['India','Srilanka', 'Bangladesh', 'Russia'])\n",
    "print(ser2)\n",
    "print(ser1+ser2)"
   ]
  },
  {
   "cell_type": "code",
   "execution_count": 9,
   "metadata": {},
   "outputs": [
    {
     "data": {
      "text/html": [
       "<div>\n",
       "<style scoped>\n",
       "    .dataframe tbody tr th:only-of-type {\n",
       "        vertical-align: middle;\n",
       "    }\n",
       "\n",
       "    .dataframe tbody tr th {\n",
       "        vertical-align: top;\n",
       "    }\n",
       "\n",
       "    .dataframe thead th {\n",
       "        text-align: right;\n",
       "    }\n",
       "</style>\n",
       "<table border=\"1\" class=\"dataframe\">\n",
       "  <thead>\n",
       "    <tr style=\"text-align: right;\">\n",
       "      <th></th>\n",
       "      <th>W</th>\n",
       "      <th>X</th>\n",
       "      <th>Y</th>\n",
       "      <th>Z</th>\n",
       "    </tr>\n",
       "  </thead>\n",
       "  <tbody>\n",
       "    <tr>\n",
       "      <th>A</th>\n",
       "      <td>0.261488</td>\n",
       "      <td>0.283720</td>\n",
       "      <td>-0.800828</td>\n",
       "      <td>-0.458290</td>\n",
       "    </tr>\n",
       "    <tr>\n",
       "      <th>B</th>\n",
       "      <td>1.199543</td>\n",
       "      <td>-1.607133</td>\n",
       "      <td>0.412655</td>\n",
       "      <td>-1.504545</td>\n",
       "    </tr>\n",
       "    <tr>\n",
       "      <th>C</th>\n",
       "      <td>2.618533</td>\n",
       "      <td>-1.428524</td>\n",
       "      <td>0.465860</td>\n",
       "      <td>1.943315</td>\n",
       "    </tr>\n",
       "    <tr>\n",
       "      <th>D</th>\n",
       "      <td>-0.715835</td>\n",
       "      <td>0.682952</td>\n",
       "      <td>0.430532</td>\n",
       "      <td>0.571642</td>\n",
       "    </tr>\n",
       "    <tr>\n",
       "      <th>E</th>\n",
       "      <td>-0.591073</td>\n",
       "      <td>-0.085696</td>\n",
       "      <td>2.702217</td>\n",
       "      <td>1.424345</td>\n",
       "    </tr>\n",
       "  </tbody>\n",
       "</table>\n",
       "</div>"
      ],
      "text/plain": [
       "          W         X         Y         Z\n",
       "A  0.261488  0.283720 -0.800828 -0.458290\n",
       "B  1.199543 -1.607133  0.412655 -1.504545\n",
       "C  2.618533 -1.428524  0.465860  1.943315\n",
       "D -0.715835  0.682952  0.430532  0.571642\n",
       "E -0.591073 -0.085696  2.702217  1.424345"
      ]
     },
     "execution_count": 9,
     "metadata": {},
     "output_type": "execute_result"
    }
   ],
   "source": [
    "# Create dataframe and select columns\n",
    "# Syntax - pd.DataFrame(data, index_labels , columns_labels)\n",
    "df1 = pd.DataFrame(np.random.randn(5,4),['A','B','C','D','E'],['W','X','Y','Z'])\n",
    "df1"
   ]
  },
  {
   "cell_type": "code",
   "execution_count": 10,
   "metadata": {},
   "outputs": [
    {
     "data": {
      "text/plain": [
       "A    0.261488\n",
       "B    1.199543\n",
       "C    2.618533\n",
       "D   -0.715835\n",
       "E   -0.591073\n",
       "Name: W, dtype: float64"
      ]
     },
     "execution_count": 10,
     "metadata": {},
     "output_type": "execute_result"
    }
   ],
   "source": [
    "# Accessing one column of the dataframe\n",
    "df1['W']"
   ]
  },
  {
   "cell_type": "code",
   "execution_count": 11,
   "metadata": {},
   "outputs": [
    {
     "data": {
      "text/html": [
       "<div>\n",
       "<style scoped>\n",
       "    .dataframe tbody tr th:only-of-type {\n",
       "        vertical-align: middle;\n",
       "    }\n",
       "\n",
       "    .dataframe tbody tr th {\n",
       "        vertical-align: top;\n",
       "    }\n",
       "\n",
       "    .dataframe thead th {\n",
       "        text-align: right;\n",
       "    }\n",
       "</style>\n",
       "<table border=\"1\" class=\"dataframe\">\n",
       "  <thead>\n",
       "    <tr style=\"text-align: right;\">\n",
       "      <th></th>\n",
       "      <th>W</th>\n",
       "      <th>Z</th>\n",
       "    </tr>\n",
       "  </thead>\n",
       "  <tbody>\n",
       "    <tr>\n",
       "      <th>A</th>\n",
       "      <td>0.261488</td>\n",
       "      <td>-0.458290</td>\n",
       "    </tr>\n",
       "    <tr>\n",
       "      <th>B</th>\n",
       "      <td>1.199543</td>\n",
       "      <td>-1.504545</td>\n",
       "    </tr>\n",
       "    <tr>\n",
       "      <th>C</th>\n",
       "      <td>2.618533</td>\n",
       "      <td>1.943315</td>\n",
       "    </tr>\n",
       "    <tr>\n",
       "      <th>D</th>\n",
       "      <td>-0.715835</td>\n",
       "      <td>0.571642</td>\n",
       "    </tr>\n",
       "    <tr>\n",
       "      <th>E</th>\n",
       "      <td>-0.591073</td>\n",
       "      <td>1.424345</td>\n",
       "    </tr>\n",
       "  </tbody>\n",
       "</table>\n",
       "</div>"
      ],
      "text/plain": [
       "          W         Z\n",
       "A  0.261488 -0.458290\n",
       "B  1.199543 -1.504545\n",
       "C  2.618533  1.943315\n",
       "D -0.715835  0.571642\n",
       "E -0.591073  1.424345"
      ]
     },
     "execution_count": 11,
     "metadata": {},
     "output_type": "execute_result"
    }
   ],
   "source": [
    "# Accessing many columns in one go * pay attention that argument is passed as a list of columns names\n",
    "df1[['W','Z']]"
   ]
  },
  {
   "cell_type": "code",
   "execution_count": 12,
   "metadata": {},
   "outputs": [
    {
     "name": "stdout",
     "output_type": "stream",
     "text": [
      "W    0.261488\n",
      "X    0.283720\n",
      "Y   -0.800828\n",
      "Z   -0.458290\n",
      "Name: A, dtype: float64\n",
      "W    0.261488\n",
      "X    0.283720\n",
      "Y   -0.800828\n",
      "Z   -0.458290\n",
      "Name: A, dtype: float64\n",
      "          W         Y\n",
      "A  0.261488 -0.800828\n",
      "C  2.618533  0.465860\n"
     ]
    }
   ],
   "source": [
    "# Data selection with loc and iloc\n",
    "\n",
    "# Accessing data with index values - Use loc\n",
    "print(df1.loc[\"A\"])\n",
    "\n",
    "# Accessing the data with row numbers - Use iloc\n",
    "print(df1.iloc[0])\n",
    "\n",
    "# Access a block through your dataframe OR lets say subset the data\n",
    "print(df1.loc[['A','C'],['W','Y']])"
   ]
  },
  {
   "cell_type": "code",
   "execution_count": 13,
   "metadata": {},
   "outputs": [
    {
     "data": {
      "text/html": [
       "<div>\n",
       "<style scoped>\n",
       "    .dataframe tbody tr th:only-of-type {\n",
       "        vertical-align: middle;\n",
       "    }\n",
       "\n",
       "    .dataframe tbody tr th {\n",
       "        vertical-align: top;\n",
       "    }\n",
       "\n",
       "    .dataframe thead th {\n",
       "        text-align: right;\n",
       "    }\n",
       "</style>\n",
       "<table border=\"1\" class=\"dataframe\">\n",
       "  <thead>\n",
       "    <tr style=\"text-align: right;\">\n",
       "      <th></th>\n",
       "      <th>W</th>\n",
       "      <th>X</th>\n",
       "      <th>Y</th>\n",
       "      <th>Z</th>\n",
       "    </tr>\n",
       "  </thead>\n",
       "  <tbody>\n",
       "    <tr>\n",
       "      <th>A</th>\n",
       "      <td>0.261488</td>\n",
       "      <td>0.283720</td>\n",
       "      <td>NaN</td>\n",
       "      <td>NaN</td>\n",
       "    </tr>\n",
       "    <tr>\n",
       "      <th>B</th>\n",
       "      <td>1.199543</td>\n",
       "      <td>NaN</td>\n",
       "      <td>0.412655</td>\n",
       "      <td>NaN</td>\n",
       "    </tr>\n",
       "    <tr>\n",
       "      <th>C</th>\n",
       "      <td>2.618533</td>\n",
       "      <td>NaN</td>\n",
       "      <td>0.465860</td>\n",
       "      <td>1.943315</td>\n",
       "    </tr>\n",
       "    <tr>\n",
       "      <th>D</th>\n",
       "      <td>NaN</td>\n",
       "      <td>0.682952</td>\n",
       "      <td>0.430532</td>\n",
       "      <td>0.571642</td>\n",
       "    </tr>\n",
       "    <tr>\n",
       "      <th>E</th>\n",
       "      <td>NaN</td>\n",
       "      <td>NaN</td>\n",
       "      <td>2.702217</td>\n",
       "      <td>1.424345</td>\n",
       "    </tr>\n",
       "  </tbody>\n",
       "</table>\n",
       "</div>"
      ],
      "text/plain": [
       "          W         X         Y         Z\n",
       "A  0.261488  0.283720       NaN       NaN\n",
       "B  1.199543       NaN  0.412655       NaN\n",
       "C  2.618533       NaN  0.465860  1.943315\n",
       "D       NaN  0.682952  0.430532  0.571642\n",
       "E       NaN       NaN  2.702217  1.424345"
      ]
     },
     "execution_count": 13,
     "metadata": {},
     "output_type": "execute_result"
    }
   ],
   "source": [
    "# Subsetting based on boolean condition\n",
    "df1[df1>0]"
   ]
  },
  {
   "cell_type": "code",
   "execution_count": 14,
   "metadata": {},
   "outputs": [
    {
     "data": {
      "text/html": [
       "<div>\n",
       "<style scoped>\n",
       "    .dataframe tbody tr th:only-of-type {\n",
       "        vertical-align: middle;\n",
       "    }\n",
       "\n",
       "    .dataframe tbody tr th {\n",
       "        vertical-align: top;\n",
       "    }\n",
       "\n",
       "    .dataframe thead th {\n",
       "        text-align: right;\n",
       "    }\n",
       "</style>\n",
       "<table border=\"1\" class=\"dataframe\">\n",
       "  <thead>\n",
       "    <tr style=\"text-align: right;\">\n",
       "      <th></th>\n",
       "      <th>W</th>\n",
       "      <th>X</th>\n",
       "      <th>Y</th>\n",
       "      <th>Z</th>\n",
       "    </tr>\n",
       "  </thead>\n",
       "  <tbody>\n",
       "    <tr>\n",
       "      <th>A</th>\n",
       "      <td>0.261488</td>\n",
       "      <td>0.283720</td>\n",
       "      <td>-0.800828</td>\n",
       "      <td>-0.458290</td>\n",
       "    </tr>\n",
       "    <tr>\n",
       "      <th>B</th>\n",
       "      <td>1.199543</td>\n",
       "      <td>-1.607133</td>\n",
       "      <td>0.412655</td>\n",
       "      <td>-1.504545</td>\n",
       "    </tr>\n",
       "    <tr>\n",
       "      <th>C</th>\n",
       "      <td>2.618533</td>\n",
       "      <td>-1.428524</td>\n",
       "      <td>0.465860</td>\n",
       "      <td>1.943315</td>\n",
       "    </tr>\n",
       "    <tr>\n",
       "      <th>D</th>\n",
       "      <td>-0.715835</td>\n",
       "      <td>0.682952</td>\n",
       "      <td>0.430532</td>\n",
       "      <td>0.571642</td>\n",
       "    </tr>\n",
       "    <tr>\n",
       "      <th>E</th>\n",
       "      <td>-0.591073</td>\n",
       "      <td>-0.085696</td>\n",
       "      <td>2.702217</td>\n",
       "      <td>1.424345</td>\n",
       "    </tr>\n",
       "  </tbody>\n",
       "</table>\n",
       "</div>"
      ],
      "text/plain": [
       "          W         X         Y         Z\n",
       "A  0.261488  0.283720 -0.800828 -0.458290\n",
       "B  1.199543 -1.607133  0.412655 -1.504545\n",
       "C  2.618533 -1.428524  0.465860  1.943315\n",
       "D -0.715835  0.682952  0.430532  0.571642\n",
       "E -0.591073 -0.085696  2.702217  1.424345"
      ]
     },
     "execution_count": 14,
     "metadata": {},
     "output_type": "execute_result"
    }
   ],
   "source": [
    "# Dropping rows and columns by drop method\n",
    "df1.drop('A',axis=0,inplace=False)\n",
    "# df1.drop('W',axis=1,inplace=False)\n",
    "# df1.drop('W',axis=1,inplace=True)\n",
    "df1"
   ]
  },
  {
   "cell_type": "code",
   "execution_count": 15,
   "metadata": {},
   "outputs": [],
   "source": [
    "# df1['W']"
   ]
  },
  {
   "cell_type": "code",
   "execution_count": 16,
   "metadata": {},
   "outputs": [
    {
     "data": {
      "text/html": [
       "<div>\n",
       "<style scoped>\n",
       "    .dataframe tbody tr th:only-of-type {\n",
       "        vertical-align: middle;\n",
       "    }\n",
       "\n",
       "    .dataframe tbody tr th {\n",
       "        vertical-align: top;\n",
       "    }\n",
       "\n",
       "    .dataframe thead th {\n",
       "        text-align: right;\n",
       "    }\n",
       "</style>\n",
       "<table border=\"1\" class=\"dataframe\">\n",
       "  <thead>\n",
       "    <tr style=\"text-align: right;\">\n",
       "      <th></th>\n",
       "      <th>X</th>\n",
       "      <th>Y</th>\n",
       "    </tr>\n",
       "  </thead>\n",
       "  <tbody>\n",
       "    <tr>\n",
       "      <th>A</th>\n",
       "      <td>0.283720</td>\n",
       "      <td>-0.800828</td>\n",
       "    </tr>\n",
       "    <tr>\n",
       "      <th>B</th>\n",
       "      <td>-1.607133</td>\n",
       "      <td>0.412655</td>\n",
       "    </tr>\n",
       "    <tr>\n",
       "      <th>C</th>\n",
       "      <td>-1.428524</td>\n",
       "      <td>0.465860</td>\n",
       "    </tr>\n",
       "  </tbody>\n",
       "</table>\n",
       "</div>"
      ],
      "text/plain": [
       "          X         Y\n",
       "A  0.283720 -0.800828\n",
       "B -1.607133  0.412655\n",
       "C -1.428524  0.465860"
      ]
     },
     "execution_count": 16,
     "metadata": {},
     "output_type": "execute_result"
    }
   ],
   "source": [
    "# Subsetting plus boolean conditions\n",
    "df1[df1['W']>0][['X','Y']]"
   ]
  },
  {
   "cell_type": "code",
   "execution_count": 17,
   "metadata": {},
   "outputs": [
    {
     "data": {
      "text/html": [
       "<div>\n",
       "<style scoped>\n",
       "    .dataframe tbody tr th:only-of-type {\n",
       "        vertical-align: middle;\n",
       "    }\n",
       "\n",
       "    .dataframe tbody tr th {\n",
       "        vertical-align: top;\n",
       "    }\n",
       "\n",
       "    .dataframe thead th {\n",
       "        text-align: right;\n",
       "    }\n",
       "</style>\n",
       "<table border=\"1\" class=\"dataframe\">\n",
       "  <thead>\n",
       "    <tr style=\"text-align: right;\">\n",
       "      <th></th>\n",
       "      <th>index</th>\n",
       "      <th>W</th>\n",
       "      <th>X</th>\n",
       "      <th>Y</th>\n",
       "      <th>Z</th>\n",
       "    </tr>\n",
       "  </thead>\n",
       "  <tbody>\n",
       "    <tr>\n",
       "      <th>0</th>\n",
       "      <td>A</td>\n",
       "      <td>0.261488</td>\n",
       "      <td>0.283720</td>\n",
       "      <td>-0.800828</td>\n",
       "      <td>-0.458290</td>\n",
       "    </tr>\n",
       "    <tr>\n",
       "      <th>1</th>\n",
       "      <td>B</td>\n",
       "      <td>1.199543</td>\n",
       "      <td>-1.607133</td>\n",
       "      <td>0.412655</td>\n",
       "      <td>-1.504545</td>\n",
       "    </tr>\n",
       "    <tr>\n",
       "      <th>2</th>\n",
       "      <td>C</td>\n",
       "      <td>2.618533</td>\n",
       "      <td>-1.428524</td>\n",
       "      <td>0.465860</td>\n",
       "      <td>1.943315</td>\n",
       "    </tr>\n",
       "    <tr>\n",
       "      <th>3</th>\n",
       "      <td>D</td>\n",
       "      <td>-0.715835</td>\n",
       "      <td>0.682952</td>\n",
       "      <td>0.430532</td>\n",
       "      <td>0.571642</td>\n",
       "    </tr>\n",
       "    <tr>\n",
       "      <th>4</th>\n",
       "      <td>E</td>\n",
       "      <td>-0.591073</td>\n",
       "      <td>-0.085696</td>\n",
       "      <td>2.702217</td>\n",
       "      <td>1.424345</td>\n",
       "    </tr>\n",
       "  </tbody>\n",
       "</table>\n",
       "</div>"
      ],
      "text/plain": [
       "  index         W         X         Y         Z\n",
       "0     A  0.261488  0.283720 -0.800828 -0.458290\n",
       "1     B  1.199543 -1.607133  0.412655 -1.504545\n",
       "2     C  2.618533 -1.428524  0.465860  1.943315\n",
       "3     D -0.715835  0.682952  0.430532  0.571642\n",
       "4     E -0.591073 -0.085696  2.702217  1.424345"
      ]
     },
     "execution_count": 17,
     "metadata": {},
     "output_type": "execute_result"
    }
   ],
   "source": [
    "# Reset indexing \n",
    "df3 = df1.reset_index(drop =False)\n",
    "df3"
   ]
  },
  {
   "cell_type": "code",
   "execution_count": 18,
   "metadata": {},
   "outputs": [
    {
     "data": {
      "text/html": [
       "<div>\n",
       "<style scoped>\n",
       "    .dataframe tbody tr th:only-of-type {\n",
       "        vertical-align: middle;\n",
       "    }\n",
       "\n",
       "    .dataframe tbody tr th {\n",
       "        vertical-align: top;\n",
       "    }\n",
       "\n",
       "    .dataframe thead th {\n",
       "        text-align: right;\n",
       "    }\n",
       "</style>\n",
       "<table border=\"1\" class=\"dataframe\">\n",
       "  <thead>\n",
       "    <tr style=\"text-align: right;\">\n",
       "      <th></th>\n",
       "      <th>W</th>\n",
       "      <th>X</th>\n",
       "      <th>Y</th>\n",
       "    </tr>\n",
       "    <tr>\n",
       "      <th>Z</th>\n",
       "      <th></th>\n",
       "      <th></th>\n",
       "      <th></th>\n",
       "    </tr>\n",
       "  </thead>\n",
       "  <tbody>\n",
       "    <tr>\n",
       "      <th>-0.458290</th>\n",
       "      <td>0.261488</td>\n",
       "      <td>0.283720</td>\n",
       "      <td>-0.800828</td>\n",
       "    </tr>\n",
       "    <tr>\n",
       "      <th>-1.504545</th>\n",
       "      <td>1.199543</td>\n",
       "      <td>-1.607133</td>\n",
       "      <td>0.412655</td>\n",
       "    </tr>\n",
       "    <tr>\n",
       "      <th>1.943315</th>\n",
       "      <td>2.618533</td>\n",
       "      <td>-1.428524</td>\n",
       "      <td>0.465860</td>\n",
       "    </tr>\n",
       "    <tr>\n",
       "      <th>0.571642</th>\n",
       "      <td>-0.715835</td>\n",
       "      <td>0.682952</td>\n",
       "      <td>0.430532</td>\n",
       "    </tr>\n",
       "    <tr>\n",
       "      <th>1.424345</th>\n",
       "      <td>-0.591073</td>\n",
       "      <td>-0.085696</td>\n",
       "      <td>2.702217</td>\n",
       "    </tr>\n",
       "  </tbody>\n",
       "</table>\n",
       "</div>"
      ],
      "text/plain": [
       "                  W         X         Y\n",
       "Z                                      \n",
       "-0.458290  0.261488  0.283720 -0.800828\n",
       "-1.504545  1.199543 -1.607133  0.412655\n",
       " 1.943315  2.618533 -1.428524  0.465860\n",
       " 0.571642 -0.715835  0.682952  0.430532\n",
       " 1.424345 -0.591073 -0.085696  2.702217"
      ]
     },
     "execution_count": 18,
     "metadata": {},
     "output_type": "execute_result"
    }
   ],
   "source": [
    "# Setting indexes\n",
    "df4 = df1.set_index('Z')\n",
    "df4"
   ]
  },
  {
   "cell_type": "code",
   "execution_count": 19,
   "metadata": {},
   "outputs": [
    {
     "name": "stdout",
     "output_type": "stream",
     "text": [
      "     A    B  C\n",
      "0  1.0  1.0  1\n",
      "1  2.0  NaN  2\n",
      "2  NaN  NaN  3\n"
     ]
    },
    {
     "data": {
      "text/html": [
       "<div>\n",
       "<style scoped>\n",
       "    .dataframe tbody tr th:only-of-type {\n",
       "        vertical-align: middle;\n",
       "    }\n",
       "\n",
       "    .dataframe tbody tr th {\n",
       "        vertical-align: top;\n",
       "    }\n",
       "\n",
       "    .dataframe thead th {\n",
       "        text-align: right;\n",
       "    }\n",
       "</style>\n",
       "<table border=\"1\" class=\"dataframe\">\n",
       "  <thead>\n",
       "    <tr style=\"text-align: right;\">\n",
       "      <th></th>\n",
       "      <th>A</th>\n",
       "      <th>B</th>\n",
       "      <th>C</th>\n",
       "    </tr>\n",
       "  </thead>\n",
       "  <tbody>\n",
       "    <tr>\n",
       "      <th>0</th>\n",
       "      <td>1.0</td>\n",
       "      <td>1.0</td>\n",
       "      <td>1</td>\n",
       "    </tr>\n",
       "    <tr>\n",
       "      <th>1</th>\n",
       "      <td>2.0</td>\n",
       "      <td>NaN</td>\n",
       "      <td>2</td>\n",
       "    </tr>\n",
       "  </tbody>\n",
       "</table>\n",
       "</div>"
      ],
      "text/plain": [
       "     A    B  C\n",
       "0  1.0  1.0  1\n",
       "1  2.0  NaN  2"
      ]
     },
     "execution_count": 19,
     "metadata": {},
     "output_type": "execute_result"
    }
   ],
   "source": [
    "# Dropping missing values\n",
    "d={'A':[1,2,np.NaN], 'B':[1,np.NaN,np.NaN],'C':[1,2,3]}\n",
    "# np.NaN is the missing element in DataFrame\n",
    "df5=pd.DataFrame(d)\n",
    "print(df5)\n",
    "# df5.dropna()       # Drop any row with missing value\n",
    "# df5.dropna(axis=1) # Drop column with NULL value\n",
    "df5.dropna(thresh=2) # Require <2 non-NA values to drop row."
   ]
  },
  {
   "cell_type": "code",
   "execution_count": 20,
   "metadata": {},
   "outputs": [
    {
     "data": {
      "text/plain": [
       "0    1.0\n",
       "1    1.0\n",
       "2    1.0\n",
       "Name: B, dtype: float64"
      ]
     },
     "execution_count": 20,
     "metadata": {},
     "output_type": "execute_result"
    }
   ],
   "source": [
    "# Filling missing values with something\n",
    "df5['B'].fillna(value=df5['B'].mean())"
   ]
  },
  {
   "cell_type": "code",
   "execution_count": 21,
   "metadata": {},
   "outputs": [
    {
     "name": "stdout",
     "output_type": "stream",
     "text": [
      "    one   two\n",
      "0    10  1000\n",
      "1    20     0\n",
      "2    30    30\n",
      "3    40    40\n",
      "4    50    50\n",
      "5  2000    60\n",
      "   one  two\n",
      "0   10   10\n",
      "1   20    0\n",
      "2   30   30\n",
      "3   40   40\n",
      "4   50   50\n",
      "5   60   60\n"
     ]
    }
   ],
   "source": [
    "# Replacing specific values\n",
    "df5 = pd.DataFrame({'one':[10,20,30,40,50,2000], 'two':[1000,0,30,40,50,60]})\n",
    "print(df5)\n",
    "print(df5.replace({1000:10,2000:60}))"
   ]
  },
  {
   "cell_type": "code",
   "execution_count": 22,
   "metadata": {},
   "outputs": [
    {
     "name": "stdout",
     "output_type": "stream",
     "text": [
      "  Company   Person  Sales\n",
      "0   CompA   Rajesh    200\n",
      "1   CompA  Pradeep    120\n",
      "2   CompB     Amit    340\n",
      "3   CompB   Rakesh    124\n",
      "4   CompC   Suresh    243\n",
      "5   CompC      Raj    350\n"
     ]
    },
    {
     "data": {
      "text/plain": [
       "Company\n",
       "CompA    320\n",
       "CompB    464\n",
       "CompC    593\n",
       "Name: Sales, dtype: int64"
      ]
     },
     "execution_count": 22,
     "metadata": {},
     "output_type": "execute_result"
    }
   ],
   "source": [
    "# Groupby function\n",
    "data = {'Company': [ 'CompA', 'CompA', 'CompB', 'CompB', 'CompC', 'CompC'],\n",
    "        'Person': ['Rajesh', 'Pradeep', 'Amit', 'Rakesh', 'Suresh', 'Raj'],\n",
    "        'Sales': [200, 120, 340, 124, 243, 350]}\n",
    "df6=pd.DataFrame(data)\n",
    "print(df6)\n",
    "comp=df6.groupby(\"Company\")['Sales'].sum() # Grouping done using label name “Company”\n",
    "comp\n"
   ]
  },
  {
   "cell_type": "code",
   "execution_count": 23,
   "metadata": {},
   "outputs": [
    {
     "name": "stdout",
     "output_type": "stream",
     "text": [
      "   col1  col2 col3\n",
      "0     1   444  abc\n",
      "1     2   555  def\n",
      "2     3   666  ghi\n",
      "3     4   444  xyz\n",
      "[444 555 666]\n",
      "444    2\n",
      "666    1\n",
      "555    1\n",
      "Name: col2, dtype: int64\n"
     ]
    }
   ],
   "source": [
    "# Finding unique value & number of occurrence from Dataframe\n",
    "df = pd.DataFrame({'col1':[1,2,3,4],'col2':[444,555,666,444],'col3':['abc','def','ghi','xyz']})\n",
    "print(df)\n",
    "\n",
    "# col1, col2 & col3 are column labels, each column have their own values\n",
    "print(df['col2'].unique()) # Fetches the unique values available in column\n",
    "\n",
    "print(df['col2'].value_counts()) # Count number of occurance of every value"
   ]
  },
  {
   "cell_type": "code",
   "execution_count": 24,
   "metadata": {},
   "outputs": [],
   "source": [
    "# File Handling\n",
    "\n",
    "# Reading from a file\n",
    "# df6 = pd.read_csv(\"test1.csv\")\n",
    "# print(df6)\n",
    "\n",
    "# Writing to a file\n",
    "# df6.to_csv('data.csv')\n",
    "\n",
    "# Read a Excel File\n",
    "# df = pd.read_excel('filename_with_path',sheet_name='SheetName')\n",
    "# Write a Excel File with Single sheet\n",
    "# df.to_excel('filename_with_path',sheet_name='SheetName')"
   ]
  }
 ],
 "metadata": {
  "kernelspec": {
   "display_name": "Python 3",
   "language": "python",
   "name": "python3"
  },
  "language_info": {
   "codemirror_mode": {
    "name": "ipython",
    "version": 3
   },
   "file_extension": ".py",
   "mimetype": "text/x-python",
   "name": "python",
   "nbconvert_exporter": "python",
   "pygments_lexer": "ipython3",
   "version": "3.8.8"
  }
 },
 "nbformat": 4,
 "nbformat_minor": 4
}
